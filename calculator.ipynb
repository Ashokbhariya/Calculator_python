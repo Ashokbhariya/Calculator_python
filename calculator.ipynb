{
 "cells": [
  {
   "cell_type": "code",
   "execution_count": 2,
   "metadata": {},
   "outputs": [
    {
     "name": "stdout",
     "output_type": "stream",
     "text": [
      "Multiplication of two values are: 45\n"
     ]
    }
   ],
   "source": [
    "def calc():\n",
    "    num1=int(input(\"Enter first Value:\"))\n",
    "    num2=int(input(\"Enter the value:\"))\n",
    "    operator=input(\"Enter the operator,+ for add,- for sub,* for multiplication,/ for division\")\n",
    "    if(operator==\"+\"):\n",
    "        print(\"The sum of two values are:\",(num1+num2))\n",
    "    elif(operator==\"-\"):\n",
    "        print(\"The differnece of two values are:\",(num1-num2))\n",
    "    elif(operator==\"*\"):\n",
    "        print(\"Multiplication of two values are:\",(num1*num2))\n",
    "    elif(operator==\"/\"):\n",
    "        print(\"Division of two values are:\",(num1/num2))\n",
    "    else:\n",
    "        print(\"Invalid input\")\n",
    "        \n",
    "calc()\n",
    "        "
   ]
  }
 ],
 "metadata": {
  "kernelspec": {
   "display_name": "Python 3",
   "language": "python",
   "name": "python3"
  },
  "language_info": {
   "codemirror_mode": {
    "name": "ipython",
    "version": 3
   },
   "file_extension": ".py",
   "mimetype": "text/x-python",
   "name": "python",
   "nbconvert_exporter": "python",
   "pygments_lexer": "ipython3",
   "version": "3.11.9"
  }
 },
 "nbformat": 4,
 "nbformat_minor": 2
}
